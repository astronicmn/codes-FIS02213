{
 "cells": [
  {
   "cell_type": "markdown",
   "metadata": {},
   "source": [
    "## Classes e Objetos"
   ]
  },
  {
   "cell_type": "code",
   "execution_count": 2,
   "metadata": {},
   "outputs": [
    {
     "name": "stdout",
     "output_type": "stream",
     "text": [
      "1 2\n",
      "1 2\n",
      "\n",
      "10 20\n",
      "1 2\n"
     ]
    }
   ],
   "source": [
    "# Criando uma classe vazia:\n",
    "class ClasseVazia:\n",
    "    pass # passa a função sem nada dentro, não ocorrerá uma exceção\n",
    "\n",
    "# Criando uma classe:\n",
    "class MyClass:\n",
    "    x = 1 # atributo (ou propriedades)\n",
    "    y = 2\n",
    "\n",
    "# Criando objetos da classe MyClass:\n",
    "obj1 = MyClass()\n",
    "obj2 = MyClass()\n",
    "\n",
    "# Acessando os atributos de um objeto:\n",
    "print( obj1.x, obj1.y ) #o ponto sempre da acesso ao atributo da classe 1 ou 2\n",
    "print( obj2.x, obj2.y )\n",
    "print()\n",
    "\n",
    "# Alterando os valores dos atributos:\n",
    "obj1.x = 10\n",
    "obj1.y = 20\n",
    "print( obj1.x, obj1.y ) # <<<<< modificado\n",
    "print( obj2.x, obj2.y )"
   ]
  },
  {
   "cell_type": "code",
   "execution_count": 3,
   "metadata": {},
   "outputs": [
    {
     "name": "stdout",
     "output_type": "stream",
     "text": [
      "x = 10 y = 20\n"
     ]
    }
   ],
   "source": [
    "# Incluindo métodos da classe MyClass: \n",
    "\n",
    "class MyClass2:\n",
    "    '''Classe experimental'''\n",
    "    x = 1\n",
    "    y = 2\n",
    "\n",
    "    def showvalues(self): # objeto se autoaplica / self utilizado só na aplicação do método\n",
    "        '''Mostra os valores dos atributos'''\n",
    "        print(f\"x = {self.x} y = {self.y}\")\n",
    "        \n",
    "    def setx(self, x): # x definido no escopo da classe \n",
    "        '''Setter para x.'''\n",
    "        self.x = x\n",
    "        \n",
    "    def sety(self, y):\n",
    "        '''Setter para y.'''\n",
    "        self.y = y\n",
    "        \n",
    "# Usamos getters e setters para adicionar lógica de validação em torno de obter e definir um valor.\n",
    "# Para evitar o acesso direto a um campo de classe, ou seja, variáveis privadas não podem ser\n",
    "# acessadas diretamente ou modificadas por um usuário externo. \n",
    "        \n",
    "obj1 = MyClass2()\n",
    "obj1.setx(10)\n",
    "obj1.sety(20)\n",
    "\n",
    "obj1.showvalues()"
   ]
  },
  {
   "cell_type": "code",
   "execution_count": 4,
   "metadata": {},
   "outputs": [
    {
     "name": "stdout",
     "output_type": "stream",
     "text": [
      "6\n",
      "22\n",
      "\n",
      "6\n",
      "22\n",
      "\n",
      "12\n",
      "32\n"
     ]
    }
   ],
   "source": [
    "# EXEMPLO:\n",
    "class paralelepipedo:\n",
    "    A = 0\n",
    "    B = 0\n",
    "    C = 0\n",
    "    \n",
    "    def __init__(self, A=0, B=0 ,C=0 ): # método de inicialização do objeto, ou seja, setar os atributos desse objeto\n",
    "        self.A = A\n",
    "        self.B = B\n",
    "        self.C = C\n",
    "    \n",
    "    def setA(self, A):\n",
    "        self.A = A\n",
    "    \n",
    "    def setB(self, B):\n",
    "        self.B = B\n",
    "        \n",
    "    def setC(self, C):\n",
    "        self.C = C\n",
    "        \n",
    "    def setABC(self, A, B, C):\n",
    "        self.A = A\n",
    "        self.B = B\n",
    "        self.C = C\n",
    "        \n",
    "    def volume(self): # produto dos comprimentos das arestas A B e C\n",
    "        A = self.A\n",
    "        B = self.B\n",
    "        C = self.C\n",
    "        return A*B*C\n",
    "    \n",
    "    def superficie(self):\n",
    "        A = self.A\n",
    "        B = self.B\n",
    "        C = self.C\n",
    "        return 2*A*B + 2*B*C + 2*A*C\n",
    "    \n",
    "obj1 = paralelepipedo()\n",
    "obj1.setA(1)\n",
    "obj1.setB(2)\n",
    "obj1.setC(3)\n",
    "\n",
    "print(obj1.volume() )\n",
    "print(obj1.superficie() )    \n",
    "print()\n",
    "\n",
    "obj2 = paralelepipedo()\n",
    "obj2.setABC(1, 2, 3)\n",
    "print(obj2.volume() )\n",
    "print(obj2.superficie() )    \n",
    "print()\n",
    "\n",
    "obj3 = paralelepipedo()\n",
    "obj3.setABC(1, 2, 3)\n",
    "obj3.setA(2)\n",
    "print(obj3.volume() )\n",
    "print(obj3.superficie() )  "
   ]
  },
  {
   "cell_type": "code",
   "execution_count": 14,
   "metadata": {
    "scrolled": true
   },
   "outputs": [
    {
     "name": "stdout",
     "output_type": "stream",
     "text": [
      "6000000 220000\n",
      "Paralelepípedo de lados 100 200 300\n"
     ]
    }
   ],
   "source": [
    "# EXEMPLO 2:\n",
    "class paralelepipedo:\n",
    "    A = 0\n",
    "    B = 0\n",
    "    C = 0\n",
    "    \n",
    "    def __init__(self, A=0, B=0 ,C=0, unit=\"m\"): # método de inicialização do objeto, ou seja, setar os atributos desse objeto\n",
    "        self.__validate(A, unit=unit) # self. na frente: chamando o método do objeto\n",
    "        self.__validate(B, unit=unit)\n",
    "        self.__validate(C, unit=unit)\n",
    "        self.A = A\n",
    "        self.B = B\n",
    "        self.C = C\n",
    "    \n",
    "    def __repr__(self):\n",
    "        '''Gera uma representação do objeto. '''\n",
    "        return(f\"Paralelepípedo de lados {self.A} {self.B} {self.C}\")\n",
    "                \n",
    "    def __validate(self, x, xname='', unit='m'): \n",
    "        # __ só na frente método utilizado internamente (maneira de controlar acesso a um método)\n",
    "        if type(x) not in (float, int):\n",
    "            raise Exception(\"Tipo inválido.\" + xname)\n",
    "        elif x < 0:\n",
    "            raise Exception(\"Valor negativo.\"+ xname)\n",
    "        return x\n",
    "        \n",
    "    def setA(self, A, unit=\"m\"):\n",
    "        self.A = A\n",
    "        if unit == \"m\":\n",
    "            pass\n",
    "        if unit == \"cm\":\n",
    "            self.A = self.A / 100\n",
    "            \n",
    "    def setB(self, B, unit=\"m\"):\n",
    "        self.B = B\n",
    "        if unit == \"m\":\n",
    "            pass\n",
    "        if unit == \"cm\":\n",
    "            self.B = self.B / 100       \n",
    "            \n",
    "    def setC(self, C, unit = \"m\"):\n",
    "        self.C = C\n",
    "        if unit == \"m\":\n",
    "            pass\n",
    "        if unit == \"cm\":\n",
    "            self.C = self.C / 100    \n",
    "            \n",
    "    def setABC(self, A, B, C, unit=\"m\"):\n",
    "        self.A = self.__validate(A, unit=unit)\n",
    "        self.B = self.__validate(B, unit=unit)\n",
    "        self.C = self.__validate(C, unit=unit)\n",
    "        \n",
    "    def volume(self): # produto dos comprimentos das arestas A B e C\n",
    "        A = self.A\n",
    "        B = self.B\n",
    "        C = self.C\n",
    "        return A*B*C\n",
    "    \n",
    "    def superficie(self):\n",
    "        A = self.A\n",
    "        B = self.B\n",
    "        C = self.C\n",
    "        return 2*A*B + 2*B*C + 2*A*C\n",
    "    \n",
    "obj1 = paralelepipedo(100, 200, 300, unit='cm')\n",
    "print(obj1.volume(), obj1.superficie())\n",
    "\n",
    "print(obj1)#__main__ : objeto principal da classe tal/ objeto na posição tal "
   ]
  },
  {
   "cell_type": "markdown",
   "metadata": {},
   "source": [
    "CONTINUAÇÃO AULA 10/10/2022"
   ]
  },
  {
   "cell_type": "code",
   "execution_count": 13,
   "metadata": {},
   "outputs": [],
   "source": [
    "class Point:\n",
    "    '''Define pontos em um sistema de coordenadas cartesianas.'''\n",
    "    \n",
    "    def __init__(self, x=0, y=0): # x e y na origem\n",
    "        '''Inicialização.'''\n",
    "        self.__x = x\n",
    "        self.__y = y\n",
    "        \n",
    "    def __repr__(self): # representação para obter infos mais detalhadas\n",
    "        return f\"(x, y) = ({self.__x, self.__y})\"\n",
    "        \n",
    "    def __eq__(self, other): # eq = equal/igual\n",
    "        '''p1 = p2? '''\n",
    "        # verificando se o obj1 é igual ao obj2 que definimos como other\n",
    "        if self.__x == other.__x and self__y == other.__y:\n",
    "            return True\n",
    "        else:\n",
    "            return False\n",
    "        \n",
    "    def __ne__(self, other): # ne = not equal\n",
    "        '''p1 != p2?''' \n",
    "        return not self.__eq__(other)\n",
    "    \n",
    "    def __gt__(self, other): # gt = greater then\n",
    "        '''p1 > p2?'''\n",
    "        if self.raio() > other.raio():\n",
    "            return True\n",
    "        elif self.raio() < other.raio():\n",
    "            return False\n",
    "        elif self.raio == other.raio():\n",
    "            if self.theta() > other.raio():\n",
    "                return True\n",
    "            else:\n",
    "                return False\n",
    "           \n",
    "    # TODOS:\n",
    "    \n",
    "    #__ge__ >=\n",
    "    #__lt__ <\n",
    "    #__le__ <=\n",
    "    \n",
    "    def __add__(self, other):\n",
    "        x = self.__x + other.__x\n",
    "        y = self.__y + other.__y\n",
    "        return Point(x, y)\n",
    "    \n",
    "    def compareTheta(self, other):\n",
    "        return self.theta() > other.theta()\n",
    "    \n",
    "    def raio(self):\n",
    "        from math import sqrt\n",
    "        r = sqrt(self.__x**2 + self.__y**2)\n",
    "        return r\n",
    "    \n",
    "    def theta(self, rad=False): # para retornar em graus, por default pode-se retornar em radianos ou graus\n",
    "        from math import atan2, degrees\n",
    "        \n",
    "        if rad not in (True, False):\n",
    "            raise Exception(\"rad with wrong value.\")\n",
    "            \n",
    "        x = self.__x\n",
    "        y = self.__y\n",
    "        theta = atan2(y, x) if rad else degrees(atan2(y, x)) \n",
    "        return theta"
   ]
  },
  {
   "cell_type": "code",
   "execution_count": 14,
   "metadata": {},
   "outputs": [
    {
     "name": "stdout",
     "output_type": "stream",
     "text": [
      "(x, y) = ((2, 3))\n",
      "Raio = 3.605551275463989\n",
      "Theta = 56.309932474020215\n"
     ]
    }
   ],
   "source": [
    "p1 = Point(2, 3)\n",
    "print(p1)\n",
    "print(f\"Raio = {p1.raio()}\")\n",
    "print(f\"Theta = {p1.theta()}\")"
   ]
  },
  {
   "cell_type": "code",
   "execution_count": 15,
   "metadata": {},
   "outputs": [
    {
     "name": "stdout",
     "output_type": "stream",
     "text": [
      "False\n",
      "True\n",
      "\n",
      "False\n",
      "True\n",
      "\n",
      "True\n",
      "\n",
      "(x, y) = ((3, 3))\n"
     ]
    }
   ],
   "source": [
    "p1 = Point(2, 3)\n",
    "p2 = Point(1, 0)\n",
    "\n",
    "# == é uma simplificação do módulo p1.__eq__(p2)\n",
    "print(p1==p2)\n",
    "print(p1!=p2)\n",
    "print()\n",
    "\n",
    "print(p1<p2)\n",
    "print(p1>p2)\n",
    "print() \n",
    "\n",
    "print(p1.compareTheta(p2))\n",
    "print()\n",
    "\n",
    "print(p1+p2)"
   ]
  }
 ],
 "metadata": {
  "kernelspec": {
   "display_name": "Python 3",
   "language": "python",
   "name": "python3"
  },
  "language_info": {
   "codemirror_mode": {
    "name": "ipython",
    "version": 3
   },
   "file_extension": ".py",
   "mimetype": "text/x-python",
   "name": "python",
   "nbconvert_exporter": "python",
   "pygments_lexer": "ipython3",
   "version": "3.6.8"
  }
 },
 "nbformat": 4,
 "nbformat_minor": 2
}
